{
 "cells": [
  {
   "cell_type": "markdown",
   "id": "7851a148",
   "metadata": {},
   "source": [
    "### Problem 1"
   ]
  },
  {
   "cell_type": "code",
   "execution_count": null,
   "id": "b0f764b1",
   "metadata": {},
   "outputs": [],
   "source": [
    "def CCBalance(Balance):\n",
    "    \n",
    "    annualInterestRate = 0.2\n",
    "    monthlyPaymentRate = 0.04\n",
    "    TotalPaid = 0\n",
    "    \n",
    "    for i in range(1,13):\n",
    "        print(\"Month: \",i)\n",
    "        \n",
    "        MinMonthPay = Balance*monthlyPaymentRate\n",
    "        print(\"Minimum Monthly Payment: \", \"%.2f\" % round(MinMonthPay,2))\n",
    "        \n",
    "        TotalPaid += MinMonthPay\n",
    "        \n",
    "        RemainingBalance = Balance - MinMonthPay\n",
    "        Interest = (annualInterestRate/12)*RemainingBalance\n",
    "        RemainingBalance = RemainingBalance+Interest\n",
    "        print(\"Remaining Balance: \",\"%.2f\" % round(RemainingBalance,2))\n",
    "        \n",
    "        print(\"________________________________________________________\")\n",
    "        \n",
    "        Balance = RemainingBalance\n",
    "        \n",
    "    print(\"Total Paid : \", \"%.2f\" % round(TotalPaid,2))\n",
    "    print(\"Remaining Balance: \",\"%.2f\" % round(Balance,2))"
   ]
  },
  {
   "cell_type": "markdown",
   "id": "ff9620a3",
   "metadata": {},
   "source": [
    "#### Test Case 1"
   ]
  },
  {
   "cell_type": "code",
   "execution_count": null,
   "id": "e88e89cd",
   "metadata": {},
   "outputs": [],
   "source": [
    "CCBalance(4213)"
   ]
  },
  {
   "cell_type": "markdown",
   "id": "de7cbade",
   "metadata": {},
   "source": [
    "#### Test Case 2"
   ]
  },
  {
   "cell_type": "code",
   "execution_count": null,
   "id": "d8e0f5ce",
   "metadata": {},
   "outputs": [],
   "source": [
    "CCBalance(4842)"
   ]
  },
  {
   "cell_type": "markdown",
   "id": "f6a72db9",
   "metadata": {},
   "source": [
    "### Problem 2"
   ]
  },
  {
   "cell_type": "code",
   "execution_count": 4,
   "id": "246d636e",
   "metadata": {},
   "outputs": [],
   "source": [
    "def LowestPayment(balance):\n",
    "    annualInterestRate = 0.2\n",
    "    MonthlyInterestRate = annualInterestRate/12.0\n",
    "    test_amount = 10\n",
    "    #MonthlyUnpaidBalance \n",
    "    Balance = balance\n",
    "    while(Balance>0):\n",
    "        #loop to compute and add compound interest on each month\n",
    "        for i in range(0,12):\n",
    "            #subtract amount\n",
    "            Balance = Balance- test_amount\n",
    "            #add interest\n",
    "            Balance += Balance*MonthlyInterestRate\n",
    "        #increment test amount until condition is satisfied\n",
    "        test_amount += 10\n",
    "    print(Balance)\n",
    "    FixedMonthlyPayment = test_amount\n",
    "    \n",
    "    print(\"Lowest Payment\",\"%.2f\" % round(FixedMonthlyPayment,0))"
   ]
  },
  {
   "cell_type": "markdown",
   "id": "13b16289",
   "metadata": {},
   "source": [
    "#### Test Case"
   ]
  },
  {
   "cell_type": "code",
   "execution_count": null,
   "id": "673cc2cb",
   "metadata": {},
   "outputs": [],
   "source": [
    "print(LowestPayment(3329))"
   ]
  },
  {
   "cell_type": "code",
   "execution_count": null,
   "id": "513beadc",
   "metadata": {},
   "outputs": [],
   "source": [
    "print(LowestPayment(4773))"
   ]
  },
  {
   "cell_type": "code",
   "execution_count": null,
   "id": "2589f617",
   "metadata": {},
   "outputs": [],
   "source": [
    "print(LowestPayment(3926))"
   ]
  },
  {
   "cell_type": "code",
   "execution_count": null,
   "id": "6f9aa660",
   "metadata": {},
   "outputs": [],
   "source": []
  }
 ],
 "metadata": {
  "kernelspec": {
   "display_name": "Python 3 (ipykernel)",
   "language": "python",
   "name": "python3"
  },
  "language_info": {
   "codemirror_mode": {
    "name": "ipython",
    "version": 3
   },
   "file_extension": ".py",
   "mimetype": "text/x-python",
   "name": "python",
   "nbconvert_exporter": "python",
   "pygments_lexer": "ipython3",
   "version": "3.9.13"
  }
 },
 "nbformat": 4,
 "nbformat_minor": 5
}
