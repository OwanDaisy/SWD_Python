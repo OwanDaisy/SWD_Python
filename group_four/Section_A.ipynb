{
 "cells": [
  {
   "cell_type": "markdown",
   "id": "95f7c73a",
   "metadata": {},
   "source": [
    "#### Temperature converter"
   ]
  },
  {
   "cell_type": "code",
   "execution_count": 2,
   "id": "5ab3a9c8",
   "metadata": {},
   "outputs": [
    {
     "name": "stdout",
     "output_type": "stream",
     "text": [
      "-1.7777777777777777 C\n"
     ]
    }
   ],
   "source": [
    "#function definition\n",
    "def Fahrenheit(temp):\n",
    "    c = (temp-32)/18\n",
    "    print(c,\"C\")\n",
    " \n",
    "#calling function for testing\n",
    "Fahrenheit(0)"
   ]
  },
  {
   "cell_type": "markdown",
   "id": "fc0f2107",
   "metadata": {},
   "source": [
    "#### Vowel Count"
   ]
  },
  {
   "cell_type": "code",
   "execution_count": 5,
   "id": "32800d04",
   "metadata": {},
   "outputs": [
    {
     "name": "stdout",
     "output_type": "stream",
     "text": [
      "Total number of vowels:  0\n"
     ]
    }
   ],
   "source": [
    "def vowelcount(word):\n",
    "    vowel = [\"a\",\"e\",\"i\",\"o\",\"u\",\"A\",\"E\",\"I\",\"O\",\"U\"]\n",
    "    word = [*word]\n",
    "    count = 0\n",
    "    for i in range(len(word)):\n",
    "        if word[i] in vowel:\n",
    "            count +=1\n",
    "           \n",
    "    print(\"Total number of vowels: \",count)\n",
    "            \n",
    "#calling function to test\n",
    "vowelcount(\"DD\")"
   ]
  },
  {
   "cell_type": "markdown",
   "id": "8377c8bf",
   "metadata": {},
   "source": [
    "#### Quadratic Equation"
   ]
  },
  {
   "cell_type": "code",
   "execution_count": 6,
   "id": "efc0497b",
   "metadata": {},
   "outputs": [
    {
     "name": "stdout",
     "output_type": "stream",
     "text": [
      "The solutions to the equation are:  -0.36306011680508976 -4.23693988319491\n"
     ]
    }
   ],
   "source": [
    "import math as m\n",
    "def quadratic(a,b,c):\n",
    "    #computing the solutions(x1,x2) of the equation\n",
    "    x1=(-b+m.sqrt((b*b)-(4*a*c))/(2*a))\n",
    "    x2=(-b-m.sqrt((b*b)-(4*a*c))/(2*a))\n",
    "    \n",
    "    print(\"The solutions to the equation are: \", x1,x2)\n",
    "    \n",
    "quadratic(1.2,2.3,-3.4)"
   ]
  },
  {
   "cell_type": "markdown",
   "id": "d5658c85",
   "metadata": {},
   "source": [
    "#### Longest Monotonic Run"
   ]
  },
  {
   "cell_type": "code",
   "execution_count": 11,
   "id": "ae563245",
   "metadata": {},
   "outputs": [
    {
     "name": "stdout",
     "output_type": "stream",
     "text": [
      "[1]\n",
      "[1]\n"
     ]
    }
   ],
   "source": [
    "def sum_longest_run(L):\n",
    "    x = [L[0]] #x = present run being traversed in the loop\n",
    "    y = [L[0]]  #y = longer run as compared to current run\n",
    "    a = [L[0]] #a = present run being traversed in the loop\n",
    "    b = [L[0]]  #b = longer run as compared to current run\n",
    "    \n",
    "    #findin the longest increasing sequence\n",
    "    for i in range(1,len(L)):\n",
    "        if L[i] >= L[i-1]:\n",
    "            x.append(L[i])\n",
    "        else:\n",
    "            if len(x)>len(y):\n",
    "                y = x\n",
    "            else:\n",
    "                #reinitialise the present run\n",
    "                x = [L[i]] #start new run from the next number after where the last run ended\n",
    "    \n",
    "    if len(x) > len(y):\n",
    "        y = x\n",
    "    print(y)\n",
    "    \n",
    "    \n",
    "    #findin the longest decreasing sequence\n",
    "    for i in range(1,len(L)):\n",
    "        if L[i] <= L[i-1]:\n",
    "            a.append(L[i])\n",
    "        else:\n",
    "            if len(a)>len(b):\n",
    "                b = a\n",
    "            else:\n",
    "                #reinitialise the present run\n",
    "                a = [L[i]] #start new run from the next number after where the last run ended\n",
    "    \n",
    "    if len(a) > len(b):\n",
    "        b = a\n",
    "    print(b) \n",
    "    \n",
    "sum_longest_run([1])"
   ]
  },
  {
   "cell_type": "markdown",
   "id": "4bbf9889",
   "metadata": {},
   "source": [
    "#### Mandarin Language converter"
   ]
  },
  {
   "cell_type": "code",
   "execution_count": 16,
   "id": "ecf58b2a",
   "metadata": {},
   "outputs": [
    {
     "name": "stdout",
     "output_type": "stream",
     "text": [
      "Mandarin version is : None\n",
      "Mandarin version is : san shi liu\n",
      "Mandarin version is : er shi\n",
      "Mandarin version is : shi liu\n"
     ]
    }
   ],
   "source": [
    "def convert_to_mandarin(num):\n",
    "    num = str(num)\n",
    "    trans = {'0':'ling',\n",
    "         '1':'yi',\n",
    "         '2':'er', \n",
    "         '3':'san', \n",
    "         '4': 'si', \n",
    "         '5':'wu', \n",
    "         '6':'liu', \n",
    "         '7':'qi', \n",
    "         '8':'ba', \n",
    "         '9':'jiu', \n",
    "         '10': 'shi'}\n",
    "    if int(num) <=10:\n",
    "        print(\"Mandarin version is :\" ,trans.get(num))\n",
    "    elif int(num[0])==1:\n",
    "        print(\"Mandarin version is :\", trans.get('10') + \" \" + trans.get(num[1]))\n",
    "    elif int(num[1])==0:\n",
    "        print(\"Mandarin version is :\", trans.get(num[0]) + \" \" +trans.get('10'))\n",
    "    else:\n",
    "        print(\"Mandarin version is :\", trans.get(num[0]) + \" \" + trans.get('10') + \" \" + trans.get(num[1]))\n",
    "        \n",
    "convert_to_mandarin(-2)\n",
    "convert_to_mandarin(36)\n",
    "convert_to_mandarin(20)\n",
    "convert_to_mandarin(16)"
   ]
  },
  {
   "cell_type": "markdown",
   "id": "5fe0dc06",
   "metadata": {},
   "source": [
    "#### N-Queen"
   ]
  },
  {
   "cell_type": "code",
   "execution_count": null,
   "id": "c7313e67",
   "metadata": {},
   "outputs": [],
   "source": []
  }
 ],
 "metadata": {
  "kernelspec": {
   "display_name": "Python 3 (ipykernel)",
   "language": "python",
   "name": "python3"
  },
  "language_info": {
   "codemirror_mode": {
    "name": "ipython",
    "version": 3
   },
   "file_extension": ".py",
   "mimetype": "text/x-python",
   "name": "python",
   "nbconvert_exporter": "python",
   "pygments_lexer": "ipython3",
   "version": "3.9.13"
  }
 },
 "nbformat": 4,
 "nbformat_minor": 5
}
