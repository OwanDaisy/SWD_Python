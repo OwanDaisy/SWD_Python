{
 "cells": [
  {
   "cell_type": "markdown",
   "id": "a7c4006a",
   "metadata": {},
   "source": [
    "### SECTION C : OOP"
   ]
  },
  {
   "cell_type": "markdown",
   "id": "90dc09b6",
   "metadata": {},
   "source": [
    "#### O. Simple Empty Rectangle"
   ]
  },
  {
   "cell_type": "code",
   "execution_count": 2,
   "id": "41d0d44f",
   "metadata": {},
   "outputs": [],
   "source": [
    "class Rectangle:\n",
    "    pass"
   ]
  },
  {
   "cell_type": "markdown",
   "id": "6a87b769",
   "metadata": {},
   "source": [
    "#### Test"
   ]
  },
  {
   "cell_type": "code",
   "execution_count": 71,
   "id": "c456536f",
   "metadata": {},
   "outputs": [
    {
     "name": "stdout",
     "output_type": "stream",
     "text": [
      "<class '__main__.Rectangle'>\n",
      "{'__module__': '__main__', '__init__': <function Rectangle.__init__ at 0x000001BF5B82D700>, '__dict__': <attribute '__dict__' of 'Rectangle' objects>, '__weakref__': <attribute '__weakref__' of 'Rectangle' objects>, '__doc__': None}\n"
     ]
    }
   ],
   "source": [
    "print(type(Rectangle()))\n",
    "print(Rectangle.__dict__)"
   ]
  },
  {
   "cell_type": "markdown",
   "id": "94d8a0fb",
   "metadata": {},
   "source": [
    "#### 1. Real definition of a rectangle"
   ]
  },
  {
   "cell_type": "code",
   "execution_count": 72,
   "id": "6ea704dd",
   "metadata": {},
   "outputs": [],
   "source": [
    "class Rectangle1:\n",
    "    # class initialisation / constructor\n",
    "    def __init__(self,width=0,height=0):\n",
    "        self.width = width\n",
    "        self.height = height\n",
    "        \n",
    "        \n",
    "## for the width        \n",
    "        #creating getter        \n",
    "        def width(self):\n",
    "            #creatx private attributes to be accessed only within the class\n",
    "            return self.__width \n",
    "        \n",
    "        #creatx property setter to set values\n",
    "        def width(self,value):\n",
    "            if (type(value)!= int):\n",
    "                raise TypeError('width must be an integer')\n",
    "            elif (value < 0):\n",
    "                raise ValueError('width must be greater than or equal to zero')\n",
    "            else:\n",
    "                self.__width\n",
    "                \n",
    "## for the height\n",
    "        def height(self):\n",
    "            #creatx private attributes to be accessed only within the class\n",
    "            return self.__height\n",
    "        \n",
    "        #creatx property setter to set values\n",
    "        def height(self,value):\n",
    "            if (type(value)!= int):\n",
    "                raise TypeError('width must be an integer')\n",
    "            elif (value < 0):\n",
    "                raise ValueError('width must be greater than or equal to zero')\n",
    "            else:\n",
    "                self.__height\n",
    "        "
   ]
  },
  {
   "cell_type": "markdown",
   "id": "2947d05b",
   "metadata": {},
   "source": [
    "#### Test"
   ]
  },
  {
   "cell_type": "code",
   "execution_count": 73,
   "id": "ccc2596a",
   "metadata": {},
   "outputs": [
    {
     "name": "stdout",
     "output_type": "stream",
     "text": [
      "{'width': 2, 'height': 4}\n",
      "{'width': 10, 'height': 3}\n"
     ]
    }
   ],
   "source": [
    "my_rectangle = Rectangle1(2,4)\n",
    "print(my_rectangle.__dict__)\n",
    "\n",
    "my_rectangle.width = 10\n",
    "my_rectangle.height = 3\n",
    "print(my_rectangle.__dict__)"
   ]
  },
  {
   "cell_type": "markdown",
   "id": "83f428a5",
   "metadata": {},
   "source": [
    "#### 2. Area and Perimeter"
   ]
  },
  {
   "cell_type": "code",
   "execution_count": 74,
   "id": "852ec139",
   "metadata": {},
   "outputs": [],
   "source": [
    "class Rectangle2:\n",
    "    # class initialisation / constructor\n",
    "    def __init__(self,width=0,height=0):\n",
    "        self.width = width\n",
    "        self.height = height\n",
    "        \n",
    "## for the width        \n",
    "    #creating getter\n",
    "    def width(self):\n",
    "        #creatx private attributes to be accessed only within the class\n",
    "        return self.__width \n",
    "    \n",
    "    #creatx setter\n",
    "    def width(self,value):\n",
    "        if (type(value)!= int):\n",
    "            raise TypeError('width must be an integer')\n",
    "        elif (value < 0):\n",
    "            raise ValueError('width must be greater than or equal to zero')\n",
    "        else:\n",
    "            self.__width\n",
    "\n",
    "## for the height\n",
    "    def height(self):\n",
    "        #creatx private attributes to be accessed only within the class\n",
    "        return self.__height\n",
    "        \n",
    "    #creatx property setter to set values\n",
    "    def height(self,value):\n",
    "        if (type(value)!= int):\n",
    "            raise TypeError('width must be an integer')\n",
    "        elif (value < 0):\n",
    "            raise ValueError('width must be greater than or equal to zero')\n",
    "        else:\n",
    "            self.__height\n",
    "                \n",
    "                \n",
    "    def area(self):\n",
    "        return self.width * self.height \n",
    "        \n",
    "        \n",
    "    def perimeter(self):\n",
    "        if (self.width == 0 or self.height == 0):\n",
    "            self.perimeter = 0\n",
    "            return self.perimeter\n",
    "        else:\n",
    "            return (self.height + self.width)*2\n",
    "            #return self.perimeter\n",
    "                \n",
    "        "
   ]
  },
  {
   "cell_type": "markdown",
   "id": "7e6de853",
   "metadata": {},
   "source": [
    "#### Test"
   ]
  },
  {
   "cell_type": "code",
   "execution_count": 75,
   "id": "606b193b",
   "metadata": {},
   "outputs": [
    {
     "name": "stdout",
     "output_type": "stream",
     "text": [
      "Area: 8 ‐ Perimeter: 12\n",
      "‐‐\n"
     ]
    }
   ],
   "source": [
    "my_rectangle = Rectangle2(2, 4)\n",
    "print(\"Area: {} ‐ Perimeter: {}\".format(my_rectangle.area(),\n",
    "my_rectangle.perimeter()))\n",
    "print(\"‐‐\")\n"
   ]
  },
  {
   "cell_type": "code",
   "execution_count": 76,
   "id": "4dda87fd",
   "metadata": {},
   "outputs": [
    {
     "name": "stdout",
     "output_type": "stream",
     "text": [
      "Area: 30 ‐ Perimeter: 26\n"
     ]
    }
   ],
   "source": [
    "my_rectangle.width = 10\n",
    "my_rectangle.height = 3\n",
    "print(\"Area: {} ‐ Perimeter: {}\".format(my_rectangle.area(),\n",
    "my_rectangle.perimeter()))"
   ]
  },
  {
   "cell_type": "markdown",
   "id": "619fde17",
   "metadata": {},
   "source": [
    "####  3. String representation"
   ]
  },
  {
   "cell_type": "code",
   "execution_count": 1,
   "id": "3108ffc5",
   "metadata": {},
   "outputs": [],
   "source": [
    "class Rectangle3:\n",
    "    # class initialisation / constructor\n",
    "    def __init__(self,width=0,height=0):\n",
    "        self.width = width\n",
    "        self.height = height\n",
    "        \n",
    "## for the width        \n",
    "    #creating getter\n",
    "    def width(self):\n",
    "        #creatx private attributes to be accessed only within the class\n",
    "        return self.__width \n",
    "    \n",
    "    #creatx setter\n",
    "    def width(self,value):\n",
    "        if (type(value)!= int):\n",
    "            raise TypeError('width must be an integer')\n",
    "        elif (value < 0):\n",
    "            raise ValueError('width must be greater than or equal to zero')\n",
    "        else:\n",
    "            self.__width\n",
    "\n",
    "## for the height\n",
    "    def height(self):\n",
    "        #creatx private attributes to be accessed only within the class\n",
    "        return self.__height\n",
    "        \n",
    "    #creatx property setter to set values\n",
    "    def height(self,value):\n",
    "        if (type(value)!= int):\n",
    "            raise TypeError('width must be an integer')\n",
    "        elif (value < 0):\n",
    "            raise ValueError('width must be greater than or equal to zero')\n",
    "        else:\n",
    "            self.__height\n",
    "                \n",
    "                \n",
    "    def area(self):\n",
    "        return self.width * self.height \n",
    "        \n",
    "        \n",
    "    def perimeter(self):\n",
    "        if (self.width == 0 or self.height == 0):\n",
    "            self.perimeter = 0\n",
    "            return self.perimeter\n",
    "        else:\n",
    "            return (self.height + self.width)*2\n",
    "            #return self.perimeter\n",
    "                \n",
    "                \n",
    "        #method for displaying / drawing rectangle using # symbol\n",
    "        \n",
    "    def __str__(self):\n",
    "        if (self.width == 0 or self.height == 0):\n",
    "            return \"\"\n",
    "        else:\n",
    "            shape = \"\"\n",
    "            for i in range(self.height):\n",
    "                shape += \"#\" * self.width + \"\\n\" \n",
    "            return shape"
   ]
  },
  {
   "cell_type": "markdown",
   "id": "aa855fcf",
   "metadata": {},
   "source": [
    "#### Test"
   ]
  },
  {
   "cell_type": "code",
   "execution_count": 5,
   "id": "65354d6c",
   "metadata": {},
   "outputs": [
    {
     "name": "stdout",
     "output_type": "stream",
     "text": [
      "\n"
     ]
    }
   ],
   "source": [
    "\n",
    "\n",
    "\n",
    "my_rectangle.width = 0\n",
    "my_rectangle.height = 0\n",
    "print(my_rectangle)\n",
    "#print(repr(my_rectangle))"
   ]
  },
  {
   "cell_type": "markdown",
   "id": "56d2c0a0",
   "metadata": {},
   "source": [
    "#### 4. Eval is magic"
   ]
  },
  {
   "cell_type": "code",
   "execution_count": 81,
   "id": "62fdf6f6",
   "metadata": {},
   "outputs": [],
   "source": [
    "class Rectangle4:\n",
    "    # class initialisation / constructor\n",
    "    def __init__(self,width=0,height=0):\n",
    "        self.width = width\n",
    "        self.height = height\n",
    "        \n",
    "## for the width        \n",
    "    #creating getter\n",
    "    def width(self):\n",
    "        #creatx private attributes to be accessed only within the class\n",
    "        return self.__width \n",
    "    \n",
    "    #creatx setter\n",
    "    def width(self,value):\n",
    "        if (type(value)!= int):\n",
    "            raise TypeError('width must be an integer')\n",
    "        elif (value < 0):\n",
    "            raise ValueError('width must be greater than or equal to zero')\n",
    "        else:\n",
    "            self.__width\n",
    "\n",
    "## for the height\n",
    "    def height(self):\n",
    "        #creatx private attributes to be accessed only within the class\n",
    "        return self.__height\n",
    "        \n",
    "    #creatx property setter to set values\n",
    "    def height(self,value):\n",
    "        if (type(value)!= int):\n",
    "            raise TypeError('width must be an integer')\n",
    "        elif (value < 0):\n",
    "            raise ValueError('width must be greater than or equal to zero')\n",
    "        else:\n",
    "            self.__height\n",
    "                \n",
    "                \n",
    "    def area(self):\n",
    "        return self.width * self.height \n",
    "        \n",
    "        \n",
    "    def perimeter(self):\n",
    "        if (self.width == 0 or self.height == 0):\n",
    "            self.perimeter = 0\n",
    "            return self.perimeter\n",
    "        else:\n",
    "            return (self.height + self.width)*2\n",
    "            #return self.perimeter\n",
    "                \n",
    "                \n",
    "        #method for displaying / drawing rectangle using # symbol\n",
    "        \n",
    "    def __str__(self):\n",
    "        if (self.width == 0 or self.height == 0):\n",
    "            return \"\"\n",
    "        else:\n",
    "            shape = \"\"\n",
    "            for i in range(self.height):\n",
    "                shape += \"#\" * self.width + \"\\n\" \n",
    "            return shape\n",
    "        \n",
    "        #method to recreate a new instance and represent strings\n",
    "    def __repr__(self):\n",
    "        return \"Rectangle4({},{})\".format(self.width, self.height)\n",
    "    \n"
   ]
  },
  {
   "cell_type": "markdown",
   "id": "25219297",
   "metadata": {},
   "source": [
    "#### Test"
   ]
  },
  {
   "cell_type": "code",
   "execution_count": 83,
   "id": "476ebcfa",
   "metadata": {},
   "outputs": [
    {
     "name": "stdout",
     "output_type": "stream",
     "text": [
      "##\n",
      "##\n",
      "##\n",
      "##\n",
      "\n",
      "‐‐\n",
      "##\n",
      "##\n",
      "##\n",
      "##\n",
      "\n",
      "‐‐\n",
      "Rectangle4(2,4)\n",
      "‐‐\n",
      "0x1bf5b8186d0\n",
      "‐‐\n",
      "##\n",
      "##\n",
      "##\n",
      "##\n",
      "\n",
      "‐‐\n",
      "##\n",
      "##\n",
      "##\n",
      "##\n",
      "\n",
      "‐‐\n",
      "Rectangle4(2,4)\n",
      "‐‐\n",
      "0x1bf5b9623d0\n",
      "‐‐\n",
      "False\n",
      "True\n"
     ]
    }
   ],
   "source": [
    "my_rectangle = Rectangle4(2, 4)\n",
    "print(str(my_rectangle))\n",
    "print(\"‐‐\")\n",
    "print(my_rectangle)\n",
    "print(\"‐‐\")\n",
    "print(repr(my_rectangle))\n",
    "print(\"‐‐\")\n",
    "print(hex(id(my_rectangle)))\n",
    "print(\"‐‐\")\n",
    "# create new instance based on representation\n",
    "new_rectangle = eval(repr(my_rectangle))\n",
    "print(str(new_rectangle))\n",
    "print(\"‐‐\")\n",
    "print(new_rectangle)\n",
    "print(\"‐‐\")\n",
    "print(repr(new_rectangle))\n",
    "print(\"‐‐\")\n",
    "print(hex(id(new_rectangle)))\n",
    "print(\"‐‐\")\n",
    "print(new_rectangle is my_rectangle)\n",
    "print(type(new_rectangle) is type(my_rectangle))"
   ]
  },
  {
   "cell_type": "markdown",
   "id": "d6601c73",
   "metadata": {},
   "source": [
    "#### 5.  Detect instance deletion"
   ]
  },
  {
   "cell_type": "code",
   "execution_count": 87,
   "id": "b8174566",
   "metadata": {},
   "outputs": [],
   "source": [
    "class Rectangle5:\n",
    "    # class initialisation / constructor\n",
    "    def __init__(self,width=0,height=0):\n",
    "        self.width = width\n",
    "        self.height = height\n",
    "        \n",
    "## for the width        \n",
    "    #creating getter\n",
    "    def width(self):\n",
    "        #creatx private attributes to be accessed only within the class\n",
    "        return self.__width \n",
    "    \n",
    "    #creatx setter\n",
    "    def width(self,value):\n",
    "        if (type(value)!= int):\n",
    "            raise TypeError('width must be an integer')\n",
    "        elif (value < 0):\n",
    "            raise ValueError('width must be greater than or equal to zero')\n",
    "        else:\n",
    "            self.__width\n",
    "\n",
    "## for the height\n",
    "    def height(self):\n",
    "        #creatx private attributes to be accessed only within the class\n",
    "        return self.__height\n",
    "        \n",
    "    #creatx property setter to set values\n",
    "    def height(self,value):\n",
    "        if (type(value)!= int):\n",
    "            raise TypeError('width must be an integer')\n",
    "        elif (value < 0):\n",
    "            raise ValueError('width must be greater than or equal to zero')\n",
    "        else:\n",
    "            self.__height\n",
    "                \n",
    "                \n",
    "    def area(self):\n",
    "        return self.width * self.height \n",
    "        \n",
    "        \n",
    "    def perimeter(self):\n",
    "        if (self.width == 0 or self.height == 0):\n",
    "            self.perimeter = 0\n",
    "            return self.perimeter\n",
    "        else:\n",
    "            return (self.height + self.width)*2\n",
    "            #return self.perimeter\n",
    "                \n",
    "                \n",
    "        #method for displaying / drawing rectangle using # symbol\n",
    "        \n",
    "    def __str__(self):\n",
    "        if (self.width == 0 or self.height == 0):\n",
    "            return \"\"\n",
    "        else:\n",
    "            shape = \"\"\n",
    "            for i in range(self.height):\n",
    "                shape += \"#\" * self.width + \"\\n\" \n",
    "            return shape\n",
    "        \n",
    "        #method to recreate a new instance and represent strings\n",
    "    def __repr__(self):\n",
    "        return \"Rectangle5({},{})\".format(self.width, self.height)\n",
    "    \n",
    "    def __del__(self):\n",
    "        print(\"Bye Rectangle...\")"
   ]
  },
  {
   "cell_type": "markdown",
   "id": "a91c5347",
   "metadata": {},
   "source": [
    "#### Test"
   ]
  },
  {
   "cell_type": "code",
   "execution_count": 88,
   "id": "39a5232d",
   "metadata": {},
   "outputs": [
    {
     "name": "stdout",
     "output_type": "stream",
     "text": [
      "Area: 8 ‐ Perimeter: 12\n",
      "Bye Rectangle...\n",
      "[NameError] name 'my_rectangle' is not defined\n"
     ]
    }
   ],
   "source": [
    "my_rectangle = Rectangle5(2, 4)\n",
    "print(\"Area: {} ‐ Perimeter: {}\".format(my_rectangle.area(),\n",
    "my_rectangle.perimeter()))\n",
    "del my_rectangle\n",
    "try:\n",
    "    print(my_rectangle)\n",
    "except Exception as e:\n",
    "    print(\"[{}] {}\".format(e.__class__.__name__, e))"
   ]
  },
  {
   "cell_type": "markdown",
   "id": "e2c10c7f",
   "metadata": {},
   "source": [
    "#### 6.  How many instances"
   ]
  },
  {
   "cell_type": "code",
   "execution_count": 85,
   "id": "dc484a9b",
   "metadata": {},
   "outputs": [],
   "source": [
    "class Rectangle6:\n",
    "    number_of_instances = 0\n",
    "    \n",
    "    # class initialisation / constructor\n",
    "    def __init__(self,width=0,height=0):\n",
    "        self.width = width\n",
    "        self.height = height\n",
    "        Rectangle6.number_of_instances +=1\n",
    "## for the width        \n",
    "    #creating getter\n",
    "    def width(self):\n",
    "        #creatx private attributes to be accessed only within the class\n",
    "        return self.__width \n",
    "    \n",
    "    #creatx setter\n",
    "    def width(self,value):\n",
    "        if (type(value)!= int):\n",
    "            raise TypeError('width must be an integer')\n",
    "        elif (value < 0):\n",
    "            raise ValueError('width must be greater than or equal to zero')\n",
    "        else:\n",
    "            self.__width\n",
    "\n",
    "## for the height\n",
    "    def height(self):\n",
    "        #creatx private attributes to be accessed only within the class\n",
    "        return self.__height\n",
    "        \n",
    "    #creatx property setter to set values\n",
    "    def height(self,value):\n",
    "        if (type(value)!= int):\n",
    "            raise TypeError('width must be an integer')\n",
    "        elif (value < 0):\n",
    "            raise ValueError('width must be greater than or equal to zero')\n",
    "        else:\n",
    "            self.__height\n",
    "                \n",
    "                \n",
    "    def area(self):\n",
    "        return self.width * self.height \n",
    "        \n",
    "        \n",
    "    def perimeter(self):\n",
    "        if (self.width == 0 or self.height == 0):\n",
    "            self.perimeter = 0\n",
    "            return self.perimeter\n",
    "        else:\n",
    "            return (self.height + self.width)*2\n",
    "            #return self.perimeter\n",
    "                \n",
    "                \n",
    "        #method for displaying / drawing rectangle using # symbol\n",
    "        \n",
    "    def __str__(self):\n",
    "        if (self.__width == 0 or self.height == 0):\n",
    "            return \"\"\n",
    "        else:\n",
    "            shape = \"\"\n",
    "            for i in range(self.height):\n",
    "                shape += \"#\" * self.width + \"\\n\" \n",
    "            return shape\n",
    "        \n",
    "    def __repr__(self):\n",
    "        return \"Rectangle({},{})\".format(self.width, self.height)\n",
    "    \n",
    "    def __del__(self):\n",
    "        Rectangle6.number_of_instances -= 1\n",
    "        print(\"Bye Rectangle...\")"
   ]
  },
  {
   "cell_type": "markdown",
   "id": "6a858306",
   "metadata": {},
   "source": [
    "#### Test"
   ]
  },
  {
   "cell_type": "code",
   "execution_count": 90,
   "id": "32143044",
   "metadata": {},
   "outputs": [
    {
     "name": "stdout",
     "output_type": "stream",
     "text": [
      "Bye Rectangle...\n",
      "Bye Rectangle...\n",
      "2 instances of Rectangle\n",
      "Bye Rectangle...\n",
      "1 instances of Rectangle\n",
      "Bye Rectangle...\n",
      "0 instances of Rectangle\n"
     ]
    }
   ],
   "source": [
    "my_rectangle_1 = Rectangle6(2, 4)\n",
    "my_rectangle_2 = Rectangle6(2, 4)\n",
    "print(\"{:d} instances of Rectangle\".format(Rectangle6.number_of_instances))\n",
    "del my_rectangle_1\n",
    "print(\"{:d} instances of Rectangle\".format(Rectangle6.number_of_instances))\n",
    "del my_rectangle_2\n",
    "print(\"{:d} instances of Rectangle\".format(Rectangle6.number_of_instances))"
   ]
  },
  {
   "cell_type": "markdown",
   "id": "c09437ae",
   "metadata": {},
   "source": [
    "#### 7. . Change representation"
   ]
  },
  {
   "cell_type": "code",
   "execution_count": 93,
   "id": "58a46c6e",
   "metadata": {},
   "outputs": [],
   "source": [
    "class Rectangle7:\n",
    "    number_of_instances = 0\n",
    "    print_symbol = \"#\"\n",
    "    \n",
    "    # class initialisation / constructor\n",
    "    def __init__(self,width=0,height=0):\n",
    "        self.width = width\n",
    "        self.height = height\n",
    "        Rectangle7.number_of_instances +=1\n",
    "## for the width        \n",
    "    #creating getter\n",
    "    def width(self):\n",
    "        #creatx private attributes to be accessed only within the class\n",
    "        return self.__width \n",
    "    \n",
    "    #creatx setter\n",
    "    def width(self,value):\n",
    "        if (type(value)!= int):\n",
    "            raise TypeError('width must be an integer')\n",
    "        elif (value < 0):\n",
    "            raise ValueError('width must be greater than or equal to zero')\n",
    "        else:\n",
    "            self.__width\n",
    "\n",
    "## for the height\n",
    "    def height(self):\n",
    "        #creatx private attributes to be accessed only within the class\n",
    "        return self.__height\n",
    "        \n",
    "    #creatx property setter to set values\n",
    "    def height(self,value):\n",
    "        if (type(value)!= int):\n",
    "            raise TypeError('width must be an integer')\n",
    "        elif (value < 0):\n",
    "            raise ValueError('width must be greater than or equal to zero')\n",
    "        else:\n",
    "            self.__height\n",
    "                \n",
    "                \n",
    "    def area(self):\n",
    "        return self.width * self.height \n",
    "        \n",
    "        \n",
    "    def perimeter(self):\n",
    "        if (self.width == 0 or self.height == 0):\n",
    "            self.perimeter = 0\n",
    "            return self.perimeter\n",
    "        else:\n",
    "            return (self.height + self.width)*2\n",
    "            #return self.perimeter\n",
    "                \n",
    "                \n",
    "        #method for displaying / drawing rectangle using # symbol\n",
    "        \n",
    "    def __str__(self):\n",
    "        if (self.width == 0 or self.height == 0):\n",
    "            return \"\"\n",
    "        else:\n",
    "            shape = \"\"\n",
    "            \n",
    "            #for i in range(self.height):\n",
    "             #   shape += \"#\" * self.width + \"\\n\" \n",
    "            #return shape\n",
    "            \n",
    "            return str(self.print_symbol)*(self.width)+(\"\\n\"+str(self.print_symbol)*self.width)*(self.height - 1)\n",
    "        \n",
    "    def __repr__(self):\n",
    "        return \"Rectangle({},{})\".format(self.width, self.height)\n",
    "    \n",
    "    def __del__(self):\n",
    "        Rectangle7.number_of_instances -= 1\n",
    "        print(\"Bye Rectangle...\")"
   ]
  },
  {
   "cell_type": "markdown",
   "id": "9747d3e2",
   "metadata": {},
   "source": [
    "#### Test"
   ]
  },
  {
   "cell_type": "code",
   "execution_count": 95,
   "id": "83c7ee89",
   "metadata": {},
   "outputs": [
    {
     "name": "stdout",
     "output_type": "stream",
     "text": [
      "Bye Rectangle...\n",
      "########\n",
      "########\n",
      "########\n",
      "########\n",
      "‐‐\n",
      "&&&&&&&&\n",
      "&&&&&&&&\n",
      "&&&&&&&&\n",
      "&&&&&&&&\n",
      "‐‐\n",
      "##\n",
      "‐‐\n",
      "CC\n"
     ]
    }
   ],
   "source": [
    "my_rectangle_1 = Rectangle7(8, 4)\n",
    "print(my_rectangle_1)\n",
    "print(\"‐‐\")\n",
    "my_rectangle_1.print_symbol = \"&\"\n",
    "print(my_rectangle_1)\n",
    "print(\"‐‐\")\n",
    "my_rectangle_2 = Rectangle7(2, 1)\n",
    "print(my_rectangle_2)\n",
    "print(\"‐‐\")\n",
    "Rectangle7.print_symbol = \"C\"\n",
    "print(my_rectangle_2)\n"
   ]
  },
  {
   "cell_type": "markdown",
   "id": "d5509da2",
   "metadata": {},
   "source": [
    "#### 8.  Compare rectangles"
   ]
  },
  {
   "cell_type": "code",
   "execution_count": 99,
   "id": "30d9f67b",
   "metadata": {},
   "outputs": [],
   "source": [
    "class Rectangle8:\n",
    "    number_of_instances = 0\n",
    "    print_symbol = \"#\"\n",
    "    \n",
    "    # class initialisation / constructor\n",
    "    def __init__(self,width=0,height=0):\n",
    "        self.width = width\n",
    "        self.height = height\n",
    "        Rectangle8.number_of_instances +=1\n",
    "        \n",
    "## for the width        \n",
    "    #creating getter\n",
    "    def width(self):\n",
    "        #creatx private attributes to be accessed only within the class\n",
    "        return self.__width \n",
    "    \n",
    "    #creatx setter\n",
    "    def width(self,value):\n",
    "        if (type(value)!= int):\n",
    "            raise TypeError('width must be an integer')\n",
    "        elif (value < 0):\n",
    "            raise ValueError('width must be greater than or equal to zero')\n",
    "        else:\n",
    "            self.__width\n",
    "\n",
    "## for the height\n",
    "    def height(self):\n",
    "        #creatx private attributes to be accessed only within the class\n",
    "        return self.__height\n",
    "        \n",
    "    #creatx property setter to set values\n",
    "    def height(self,value):\n",
    "        if (type(value)!= int):\n",
    "            raise TypeError('width must be an integer')\n",
    "        elif (value < 0):\n",
    "            raise ValueError('width must be greater than or equal to zero')\n",
    "        else:\n",
    "            self.__height\n",
    "                \n",
    "                \n",
    "    def area(self):\n",
    "        return self.width * self.height \n",
    "        \n",
    "        \n",
    "    def perimeter(self):\n",
    "        if (self.width == 0 or self.height == 0):\n",
    "            self.perimeter = 0\n",
    "            return self.perimeter\n",
    "        else:\n",
    "            return (self.height + self.width)*2\n",
    "            #return self.perimeter\n",
    "                \n",
    "                \n",
    "        #method for displaying / drawing rectangle using any symbol defined in the print symbol variable\n",
    "        \n",
    "    def __str__(self):\n",
    "        if (self.width == 0 or self.height == 0):\n",
    "            return \"\"\n",
    "        else:\n",
    "            shape = \"\"\n",
    "            \n",
    "            #for i in range(self.height):\n",
    "             #   shape += \"#\" * self.width + \"\\n\" \n",
    "            #return shape\n",
    "            \n",
    "            return str(self.print_symbol)*(self.width)+(\"\\n\"+str(self.print_symbol)*self.width)*(self.height - 1)\n",
    "        \n",
    "    def __repr__(self):\n",
    "        return \"Rectangle({},{})\".format(self.width, self.height)\n",
    "    \n",
    "    def __del__(self):\n",
    "        Rectangle8.number_of_instances -= 1\n",
    "        print(\"Bye Rectangle...\")\n",
    "        \n",
    "    #creatin static method to return rectangle with biggest area\n",
    "    def bigger_or_equal(rect_1, rect_2):\n",
    "        if not isinstance(rect_1,Rectangle8):\n",
    "            raise TypeError('rect_1 must be an instance of Rectangle1')\n",
    "        elif not isinstance(rect_2,Rectangle8):\n",
    "            raise TypeError('rect_2 must be an instance of Rectangle1')\n",
    "        else:\n",
    "            if (rect_2.area() < rect_1.area()):\n",
    "                return rect_1\n",
    "            else:\n",
    "                return rect_2 \n",
    "        "
   ]
  },
  {
   "cell_type": "markdown",
   "id": "e55ba419",
   "metadata": {},
   "source": [
    "#### Test"
   ]
  },
  {
   "cell_type": "code",
   "execution_count": 100,
   "id": "1db8e213",
   "metadata": {},
   "outputs": [
    {
     "name": "stdout",
     "output_type": "stream",
     "text": [
      "Bye Rectangle...\n",
      "Bye Rectangle...\n",
      "my_rectangle_1 is bigger or equal to my_rectangle_2\n",
      "my_rectangle_2 is bigger than my_rectangle_1\n"
     ]
    }
   ],
   "source": [
    "my_rectangle_1 = Rectangle8(8, 4)\n",
    "my_rectangle_2 = Rectangle8(2, 3)\n",
    "if my_rectangle_1 is Rectangle8.bigger_or_equal(my_rectangle_1, my_rectangle_2):\n",
    "    print(\"my_rectangle_1 is bigger or equal to my_rectangle_2\")\n",
    "else:\n",
    "    print(\"my_rectangle_2 is bigger than my_rectangle_1\")\n",
    "my_rectangle_2.width = 10\n",
    "my_rectangle_2.height = 5\n",
    "if my_rectangle_1 is Rectangle8.bigger_or_equal(my_rectangle_1, my_rectangle_2):\n",
    "    print(\"my_rectangle_1 is bigger or equal to my_rectangle_2\")\n",
    "else:\n",
    "    print(\"my_rectangle_2 is bigger than my_rectangle_1\")"
   ]
  },
  {
   "cell_type": "markdown",
   "id": "e10df2d5",
   "metadata": {},
   "source": [
    "#### 9. . A square is a rectangle"
   ]
  },
  {
   "cell_type": "code",
   "execution_count": 55,
   "id": "f02f9afa",
   "metadata": {},
   "outputs": [],
   "source": [
    "class Rectangle9:\n",
    "    number_of_instances = 0\n",
    "    print_symbol = \"#\"\n",
    "    \n",
    "    # class initialisation / constructor\n",
    "    def __init__(self,width=0,height=0):\n",
    "        self.width = width\n",
    "        self.height = height\n",
    "        Rectangle9.number_of_instances +=1\n",
    "        \n",
    "## for the width        \n",
    "    #creating getter\n",
    "    def width(self):\n",
    "        #creatx private attributes to be accessed only within the class\n",
    "        return self.__width \n",
    "    \n",
    "    #creatx setter\n",
    "    def width(self,value):\n",
    "        if (type(value)!= int):\n",
    "            raise TypeError('width must be an integer')\n",
    "        elif (value < 0):\n",
    "            raise ValueError('width must be greater than or equal to zero')\n",
    "        else:\n",
    "            self.__width\n",
    "\n",
    "## for the height\n",
    "    def height(self):\n",
    "        #creatx private attributes to be accessed only within the class\n",
    "        return self.__height\n",
    "        \n",
    "    #creatx property setter to set values\n",
    "    def height(self,value):\n",
    "        if (type(value)!= int):\n",
    "            raise TypeError('width must be an integer')\n",
    "        elif (value < 0):\n",
    "            raise ValueError('width must be greater than or equal to zero')\n",
    "        else:\n",
    "            self.__height\n",
    "                \n",
    "                \n",
    "    def area(self):\n",
    "        return self.width * self.height \n",
    "        \n",
    "        \n",
    "    def perimeter(self):\n",
    "        if (self.width == 0 or self.height == 0):\n",
    "            self.perimeter = 0\n",
    "            return self.perimeter\n",
    "        else:\n",
    "            return (self.height + self.width)*2\n",
    "            #return self.perimeter\n",
    "                \n",
    "                \n",
    "        #method for displaying / drawing rectangle using any symbol defined in the print symbol variable\n",
    "        \n",
    "    def __str__(self):\n",
    "        if (self.width == 0 or self.height == 0):\n",
    "            return \"\"\n",
    "        else:\n",
    "            shape = \"\"\n",
    "            \n",
    "            #for i in range(self.height):\n",
    "             #   shape += \"#\" * self.width + \"\\n\" \n",
    "            #return shape\n",
    "            \n",
    "            return str(self.print_symbol)*(self.width)+(\"\\n\"+str(self.print_symbol)*self.width)*(self.height - 1)\n",
    "        \n",
    "    def __repr__(self):\n",
    "        return \"Rectangle({},{})\".format(self.width, self.height)\n",
    "    \n",
    "    def __del__(self):\n",
    "        Rectangle9.number_of_instances -= 1\n",
    "        print(\"Bye Rectangle...\")\n",
    "        \n",
    "    #creatin static method to return rectangle with biggest area\n",
    "    def bigger_or_equal(rect_1, rect_2):\n",
    "        if not isinstance(rect_1,Rectangle9):\n",
    "            raise TypeError('rect_1 must be an instance of Rectangle1')\n",
    "        elif not isinstance(rect_2,Rectangle9):\n",
    "            raise TypeError('rect_2 must be an instance of Rectangle1')\n",
    "        else:\n",
    "            if (rect_2.area() < rect_1.area()):\n",
    "                return rect_1\n",
    "            else:\n",
    "                return rect_2\n",
    "        \n",
    "    #class method to return a square\n",
    "    def square(cls,size=0):\n",
    "        cls.__width==size\n",
    "        cls.__height==size\n",
    "    \n",
    "    \n",
    "    "
   ]
  },
  {
   "cell_type": "markdown",
   "id": "8ee02230",
   "metadata": {},
   "source": [
    "#### Test"
   ]
  },
  {
   "cell_type": "code",
   "execution_count": 56,
   "id": "1c518018",
   "metadata": {},
   "outputs": [
    {
     "ename": "AttributeError",
     "evalue": "'int' object has no attribute '_Rectangle9__width'",
     "output_type": "error",
     "traceback": [
      "\u001b[1;31m---------------------------------------------------------------------------\u001b[0m",
      "\u001b[1;31mAttributeError\u001b[0m                            Traceback (most recent call last)",
      "\u001b[1;32m~\\AppData\\Local\\Temp\\ipykernel_13308\\2075614018.py\u001b[0m in \u001b[0;36m<module>\u001b[1;34m\u001b[0m\n\u001b[1;32m----> 1\u001b[1;33m \u001b[0mmy_square\u001b[0m \u001b[1;33m=\u001b[0m \u001b[0mRectangle9\u001b[0m\u001b[1;33m.\u001b[0m\u001b[0msquare\u001b[0m\u001b[1;33m(\u001b[0m\u001b[1;36m5\u001b[0m\u001b[1;33m)\u001b[0m\u001b[1;33m\u001b[0m\u001b[1;33m\u001b[0m\u001b[0m\n\u001b[0m\u001b[0;32m      2\u001b[0m \u001b[0mprint\u001b[0m\u001b[1;33m(\u001b[0m\u001b[1;34m\"Area: {} ‐ Perimeter: {}\"\u001b[0m\u001b[1;33m.\u001b[0m\u001b[0mformat\u001b[0m\u001b[1;33m(\u001b[0m\u001b[0mmy_square\u001b[0m\u001b[1;33m.\u001b[0m\u001b[0marea\u001b[0m\u001b[1;33m(\u001b[0m\u001b[1;33m)\u001b[0m\u001b[1;33m,\u001b[0m \u001b[0mmy_square\u001b[0m\u001b[1;33m.\u001b[0m\u001b[0mperimeter\u001b[0m\u001b[1;33m(\u001b[0m\u001b[1;33m)\u001b[0m\u001b[1;33m)\u001b[0m\u001b[1;33m)\u001b[0m\u001b[1;33m\u001b[0m\u001b[1;33m\u001b[0m\u001b[0m\n\u001b[0;32m      3\u001b[0m \u001b[0mprint\u001b[0m\u001b[1;33m(\u001b[0m\u001b[0mmy_square\u001b[0m\u001b[1;33m)\u001b[0m\u001b[1;33m\u001b[0m\u001b[1;33m\u001b[0m\u001b[0m\n",
      "\u001b[1;32m~\\AppData\\Local\\Temp\\ipykernel_13308\\3029723135.py\u001b[0m in \u001b[0;36msquare\u001b[1;34m(cls, size)\u001b[0m\n\u001b[0;32m     87\u001b[0m     \u001b[1;31m#class method to return a square\u001b[0m\u001b[1;33m\u001b[0m\u001b[1;33m\u001b[0m\u001b[0m\n\u001b[0;32m     88\u001b[0m     \u001b[1;32mdef\u001b[0m \u001b[0msquare\u001b[0m\u001b[1;33m(\u001b[0m\u001b[0mcls\u001b[0m\u001b[1;33m,\u001b[0m\u001b[0msize\u001b[0m\u001b[1;33m=\u001b[0m\u001b[1;36m0\u001b[0m\u001b[1;33m)\u001b[0m\u001b[1;33m:\u001b[0m\u001b[1;33m\u001b[0m\u001b[1;33m\u001b[0m\u001b[0m\n\u001b[1;32m---> 89\u001b[1;33m         \u001b[0mcls\u001b[0m\u001b[1;33m.\u001b[0m\u001b[0m__width\u001b[0m\u001b[1;33m==\u001b[0m\u001b[0msize\u001b[0m\u001b[1;33m\u001b[0m\u001b[1;33m\u001b[0m\u001b[0m\n\u001b[0m\u001b[0;32m     90\u001b[0m         \u001b[0mcls\u001b[0m\u001b[1;33m.\u001b[0m\u001b[0m__height\u001b[0m\u001b[1;33m==\u001b[0m\u001b[0msize\u001b[0m\u001b[1;33m\u001b[0m\u001b[1;33m\u001b[0m\u001b[0m\n\u001b[0;32m     91\u001b[0m \u001b[1;33m\u001b[0m\u001b[0m\n",
      "\u001b[1;31mAttributeError\u001b[0m: 'int' object has no attribute '_Rectangle9__width'"
     ]
    }
   ],
   "source": [
    "my_square = Rectangle9.square(5)\n",
    "print(\"Area: {} ‐ Perimeter: {}\".format(my_square.area(), my_square.perimeter()))\n",
    "print(my_square)"
   ]
  },
  {
   "cell_type": "code",
   "execution_count": null,
   "id": "56999c29",
   "metadata": {},
   "outputs": [],
   "source": []
  },
  {
   "cell_type": "code",
   "execution_count": null,
   "id": "ccbc4a3a",
   "metadata": {},
   "outputs": [],
   "source": []
  }
 ],
 "metadata": {
  "kernelspec": {
   "display_name": "Python 3 (ipykernel)",
   "language": "python",
   "name": "python3"
  },
  "language_info": {
   "codemirror_mode": {
    "name": "ipython",
    "version": 3
   },
   "file_extension": ".py",
   "mimetype": "text/x-python",
   "name": "python",
   "nbconvert_exporter": "python",
   "pygments_lexer": "ipython3",
   "version": "3.9.13"
  }
 },
 "nbformat": 4,
 "nbformat_minor": 5
}
