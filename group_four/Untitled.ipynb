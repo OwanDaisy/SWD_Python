{
 "cells": [
  {
   "cell_type": "code",
   "execution_count": 1,
   "id": "31bc6640",
   "metadata": {},
   "outputs": [],
   "source": [
    "def CCBalance(Balance):\n",
    "    \n",
    "    annualInterestRate = 0.2\n",
    "    monthlyPaymentRate = 0.04\n",
    "    TotalPaid = 0\n",
    "    \n",
    "    for i in range(1,13):\n",
    "        print(\"Month: \",i)\n",
    "        \n",
    "        MinMonthPay = Balance*monthlyPaymentRate\n",
    "        print(\"Minimum Monthly Payment: \", \"%.2f\" % round(MinMonthPay,2))\n",
    "        \n",
    "        TotalPaid += MinMonthPay\n",
    "        \n",
    "        RemainingBalance = Balance - MinMonthPay\n",
    "        Interest = (annualInterestRate/12)*RemainingBalance\n",
    "        RemainingBalance = RemainingBalance+Interest\n",
    "        print(\"Remaining Balance: \",\"%.2f\" % round(RemainingBalance,2))\n",
    "        \n",
    "        print(\"________________________________________________________\")\n",
    "        \n",
    "        Balance = RemainingBalance\n",
    "        \n",
    "    print(\"Total Paid : \", \"%.2f\" % round(TotalPaid,2))\n",
    "    print(\"Remaining Balance: \",\"%.2f\" % round(Balance,2))"
   ]
  },
  {
   "cell_type": "code",
   "execution_count": 3,
   "id": "88a438ff",
   "metadata": {},
   "outputs": [
    {
     "name": "stdout",
     "output_type": "stream",
     "text": [
      "Month:  1\n",
      "Minimum Monthly Payment:  168.52\n",
      "Remaining Balance:  4111.89\n",
      "________________________________________________________\n",
      "Month:  2\n",
      "Minimum Monthly Payment:  164.48\n",
      "Remaining Balance:  4013.20\n",
      "________________________________________________________\n",
      "Month:  3\n",
      "Minimum Monthly Payment:  160.53\n",
      "Remaining Balance:  3916.89\n",
      "________________________________________________________\n",
      "Month:  4\n",
      "Minimum Monthly Payment:  156.68\n",
      "Remaining Balance:  3822.88\n",
      "________________________________________________________\n",
      "Month:  5\n",
      "Minimum Monthly Payment:  152.92\n",
      "Remaining Balance:  3731.13\n",
      "________________________________________________________\n",
      "Month:  6\n",
      "Minimum Monthly Payment:  149.25\n",
      "Remaining Balance:  3641.58\n",
      "________________________________________________________\n",
      "Month:  7\n",
      "Minimum Monthly Payment:  145.66\n",
      "Remaining Balance:  3554.19\n",
      "________________________________________________________\n",
      "Month:  8\n",
      "Minimum Monthly Payment:  142.17\n",
      "Remaining Balance:  3468.89\n",
      "________________________________________________________\n",
      "Month:  9\n",
      "Minimum Monthly Payment:  138.76\n",
      "Remaining Balance:  3385.63\n",
      "________________________________________________________\n",
      "Month:  10\n",
      "Minimum Monthly Payment:  135.43\n",
      "Remaining Balance:  3304.38\n",
      "________________________________________________________\n",
      "Month:  11\n",
      "Minimum Monthly Payment:  132.18\n",
      "Remaining Balance:  3225.07\n",
      "________________________________________________________\n",
      "Month:  12\n",
      "Minimum Monthly Payment:  129.00\n",
      "Remaining Balance:  3147.67\n",
      "________________________________________________________\n",
      "Total Paid :  1775.55\n",
      "Remaining Balance:  3147.67\n"
     ]
    }
   ],
   "source": [
    "CCBalance(4213)"
   ]
  },
  {
   "cell_type": "code",
   "execution_count": 4,
   "id": "74d32603",
   "metadata": {},
   "outputs": [],
   "source": [
    "def LowestPayment(balance):\n",
    "    annualInterestRate = 0.2\n",
    "    MonthlyInterestRate = annualInterestRate/12.0\n",
    "    test_amount = 10\n",
    "    #MonthlyUnpaidBalance \n",
    "    Balance = balance\n",
    "    while(Balance>0):\n",
    "        #loop to compute and add compound interest on each month\n",
    "        for i in range(0,12):\n",
    "            #subtract amount\n",
    "            Balance = Balance- test_amount\n",
    "            #add interest\n",
    "            Balance += Balance*MonthlyInterestRate\n",
    "        #increment test amount until condition is satisfied\n",
    "        test_amount += 10\n",
    "    print(Balance)\n",
    "    FixedMonthlyPayment = test_amount\n",
    "    \n",
    "    print(\"Lowest Payment\",\"%.2f\" % round(FixedMonthlyPayment,0))"
   ]
  },
  {
   "cell_type": "code",
   "execution_count": 5,
   "id": "28a28e48",
   "metadata": {},
   "outputs": [
    {
     "name": "stdout",
     "output_type": "stream",
     "text": [
      "-1893.7632807642015\n",
      "Lowest Payment 310.00\n",
      "None\n"
     ]
    }
   ],
   "source": [
    "print(LowestPayment(3329))"
   ]
  },
  {
   "cell_type": "code",
   "execution_count": null,
   "id": "dbc9117b",
   "metadata": {},
   "outputs": [],
   "source": []
  }
 ],
 "metadata": {
  "kernelspec": {
   "display_name": "Python 3 (ipykernel)",
   "language": "python",
   "name": "python3"
  },
  "language_info": {
   "codemirror_mode": {
    "name": "ipython",
    "version": 3
   },
   "file_extension": ".py",
   "mimetype": "text/x-python",
   "name": "python",
   "nbconvert_exporter": "python",
   "pygments_lexer": "ipython3",
   "version": "3.9.13"
  }
 },
 "nbformat": 4,
 "nbformat_minor": 5
}
